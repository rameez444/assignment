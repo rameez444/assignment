{
 "cells": [
  {
   "cell_type": "markdown",
   "id": "05ab4271",
   "metadata": {},
   "source": [
    "# Data Science Tools and Ecosystem.\n"
   ]
  },
  {
   "cell_type": "code",
   "execution_count": null,
   "id": "843c903e",
   "metadata": {},
   "outputs": [],
   "source": []
  },
  {
   "cell_type": "markdown",
   "id": "1fd71e8f",
   "metadata": {},
   "source": [
    "## introduction\n",
    "In this notebook,\n",
    "Data Science Tools and Ecosystem are summarized."
   ]
  },
  {
   "cell_type": "markdown",
   "id": "bfd76e10",
   "metadata": {},
   "source": [
    "## list data science languages\n",
    "Some of the popular languages that Data Scientists use are:\n",
    "\n",
    "1. python language\n",
    "2. sql\n",
    "3. julia\n",
    "4. java\n",
    "5. javascript\n",
    "6. c++\n"
   ]
  },
  {
   "cell_type": "markdown",
   "id": "cc35ba5e",
   "metadata": {},
   "source": [
    "## list data science libraries\n",
    "Some of the commonly used libraries used by Data Scientists include:\n",
    "1. pandas\n",
    "2. numpy\n",
    "3. scikit-learn\n",
    "4. TensorFlow\n",
    "5. Matplotlib\n"
   ]
  },
  {
   "cell_type": "markdown",
   "id": "49f9f161",
   "metadata": {},
   "source": [
    "## Data Science Tools \n",
    "|Data Science Tools|\n",
    "|------------------| \n",
    "|Jupyter Notebook| \n",
    "|RStudio|\n",
    "|Apache Spark|"
   ]
  },
  {
   "cell_type": "markdown",
   "id": "cf5606ef",
   "metadata": {},
   "source": [
    "### Below are a few examples of evaluating arithmetic expressions in Python"
   ]
  },
  {
   "cell_type": "code",
   "execution_count": 11,
   "id": "216ac75d",
   "metadata": {},
   "outputs": [
    {
     "name": "stdout",
     "output_type": "stream",
     "text": [
      "17\n"
     ]
    }
   ],
   "source": [
    "# This a simple arithmetic expression to mutiply then add integers\n",
    "print(3*4+5)"
   ]
  },
  {
   "cell_type": "markdown",
   "id": "3736a435",
   "metadata": {},
   "source": [
    "### convert 200 minutes to hours"
   ]
  },
  {
   "cell_type": "code",
   "execution_count": 12,
   "id": "632b783e",
   "metadata": {},
   "outputs": [
    {
     "name": "stdout",
     "output_type": "stream",
     "text": [
      "3.3333333333333335\n"
     ]
    }
   ],
   "source": [
    "#This will convert 200 minutes to hours by diving by 60\n",
    "print(200/60)"
   ]
  },
  {
   "cell_type": "markdown",
   "id": "d0e4bde3",
   "metadata": {},
   "source": [
    "#### Objectives:"
   ]
  },
  {
   "cell_type": "markdown",
   "id": "d3cc9a54",
   "metadata": {},
   "source": [
    "List popular languages for Data Science are :"
   ]
  },
  {
   "cell_type": "markdown",
   "id": "4cf3d59a",
   "metadata": {},
   "source": [
    "* List popular languages that Data Scientists use.\n",
    "* List commonly used libraries used by Data Scientists.\n",
    "* Comment on Data Science tools."
   ]
  },
  {
   "cell_type": "markdown",
   "id": "7cefb423",
   "metadata": {},
   "source": [
    "## Author\n",
    "\n",
    "name : lakshmi holla,niveditha pandith\n"
   ]
  }
 ],
 "metadata": {
  "kernelspec": {
   "display_name": "Python 3 (ipykernel)",
   "language": "python",
   "name": "python3"
  },
  "language_info": {
   "codemirror_mode": {
    "name": "ipython",
    "version": 3
   },
   "file_extension": ".py",
   "mimetype": "text/x-python",
   "name": "python",
   "nbconvert_exporter": "python",
   "pygments_lexer": "ipython3",
   "version": "3.9.7"
  }
 },
 "nbformat": 4,
 "nbformat_minor": 5
}
